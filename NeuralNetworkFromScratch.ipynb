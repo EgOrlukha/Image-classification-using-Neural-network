{
 "cells": [
  {
   "cell_type": "code",
   "execution_count": 647,
   "metadata": {},
   "outputs": [],
   "source": [
    "#lets build the neural network from scratch\n",
    "import numpy as np\n",
    "import pandas as pd\n",
    "\n",
    "class neural_network:\n",
    "    \n",
    "    def __init__(self,x,y):\n",
    "        \n",
    "        self.input =  x.shape[1]\n",
    "        \n",
    "        \n",
    "        self.w1 = np.random.rand(self.input,8)\n",
    "        self.b1 =  np.random.rand(8)\n",
    "        self.w2 = np.random.rand(8,1)\n",
    "        self.b2 = np.random.rand(1)\n",
    "        self.learning_rate = 0.001\n",
    "        self.output =  np.zeros(y.shape)\n",
    "        \n",
    "        \n",
    "    \n",
    "    def activation_fun(self,z):\n",
    "        #dot product \n",
    "        return 1/(1+np.exp(-z))\n",
    "    \n",
    "    def derivative_(self,z):\n",
    "        return self.activation_fun(z)*(1-self.activation_fun(z))\n",
    "   \n",
    "        \n",
    "        \n",
    "        \n",
    "    def feed_forward(self,x,y):\n",
    "        \n",
    "        z = x.dot(self.w1)+self.b1\n",
    "        z = z.astype(float)\n",
    "        \n",
    "        self.z2 = self.activation_fun(z)\n",
    "        self.z2 = self.z2.astype(float)\n",
    "        self.z3 = self.z2.dot(self.w2)+self.b2\n",
    "        \n",
    "        self.z3 =  self.z3.astype(float)\n",
    "        self.output = self.activation_fun(self.z3)\n",
    "        return self.output\n",
    "    \n",
    "    def backward_propogation(self,x,y,output):\n",
    "        self.error =  y.reshape(-1,1) - output\n",
    "        \n",
    "        \n",
    "        l_error = self.error*self.derivative_(output)\n",
    "        self.l_error_delta = l_error.dot(self.w2.T)\n",
    "        \n",
    "        self.z2_delta = self.l_error_delta*self.derivative_(self.z2)\n",
    "        \n",
    "        \n",
    "        \n",
    "        self.w1 = self.w1 + X.T.dot(self.z2_delta)\n",
    "        self.w2 = self.w2 + self.z2.T.dot(l_error)\n",
    "        \n",
    "        \n",
    "    \n",
    "    def fit(self,x,y,iteration):\n",
    "        self.output = self.feed_forward(x,y)\n",
    "        for i in range(iteration):\n",
    "            self.backward_propogation(x,y,self.output)\n",
    "        \n",
    "        \n",
    "        \n",
    "        \n",
    "        \n",
    "        \n",
    "        \n",
    "        \n",
    "        \n",
    "        \n",
    "    \n",
    "        "
   ]
  },
  {
   "cell_type": "code",
   "execution_count": 648,
   "metadata": {},
   "outputs": [
    {
     "data": {
      "text/html": [
       "<div>\n",
       "<style scoped>\n",
       "    .dataframe tbody tr th:only-of-type {\n",
       "        vertical-align: middle;\n",
       "    }\n",
       "\n",
       "    .dataframe tbody tr th {\n",
       "        vertical-align: top;\n",
       "    }\n",
       "\n",
       "    .dataframe thead th {\n",
       "        text-align: right;\n",
       "    }\n",
       "</style>\n",
       "<table border=\"1\" class=\"dataframe\">\n",
       "  <thead>\n",
       "    <tr style=\"text-align: right;\">\n",
       "      <th></th>\n",
       "      <th>sepal_length</th>\n",
       "      <th>sepal_width</th>\n",
       "      <th>petal_length</th>\n",
       "      <th>petal_width</th>\n",
       "      <th>species</th>\n",
       "    </tr>\n",
       "  </thead>\n",
       "  <tbody>\n",
       "    <tr>\n",
       "      <th>0</th>\n",
       "      <td>5.1</td>\n",
       "      <td>3.5</td>\n",
       "      <td>1.4</td>\n",
       "      <td>0.2</td>\n",
       "      <td>setosa</td>\n",
       "    </tr>\n",
       "    <tr>\n",
       "      <th>1</th>\n",
       "      <td>4.9</td>\n",
       "      <td>3.0</td>\n",
       "      <td>1.4</td>\n",
       "      <td>0.2</td>\n",
       "      <td>setosa</td>\n",
       "    </tr>\n",
       "    <tr>\n",
       "      <th>2</th>\n",
       "      <td>4.7</td>\n",
       "      <td>3.2</td>\n",
       "      <td>1.3</td>\n",
       "      <td>0.2</td>\n",
       "      <td>setosa</td>\n",
       "    </tr>\n",
       "    <tr>\n",
       "      <th>3</th>\n",
       "      <td>4.6</td>\n",
       "      <td>3.1</td>\n",
       "      <td>1.5</td>\n",
       "      <td>0.2</td>\n",
       "      <td>setosa</td>\n",
       "    </tr>\n",
       "    <tr>\n",
       "      <th>4</th>\n",
       "      <td>5.0</td>\n",
       "      <td>3.6</td>\n",
       "      <td>1.4</td>\n",
       "      <td>0.2</td>\n",
       "      <td>setosa</td>\n",
       "    </tr>\n",
       "  </tbody>\n",
       "</table>\n",
       "</div>"
      ],
      "text/plain": [
       "   sepal_length  sepal_width  petal_length  petal_width species\n",
       "0           5.1          3.5           1.4          0.2  setosa\n",
       "1           4.9          3.0           1.4          0.2  setosa\n",
       "2           4.7          3.2           1.3          0.2  setosa\n",
       "3           4.6          3.1           1.5          0.2  setosa\n",
       "4           5.0          3.6           1.4          0.2  setosa"
      ]
     },
     "execution_count": 648,
     "metadata": {},
     "output_type": "execute_result"
    }
   ],
   "source": [
    "data = pd.read_csv(\"https://gist.githubusercontent.com/curran/a08a1080b88344b0c8a7/raw/d546eaee765268bf2f487608c537c05e22e4b221/iris.csv\")\n",
    "data.head()"
   ]
  },
  {
   "cell_type": "code",
   "execution_count": 649,
   "metadata": {},
   "outputs": [],
   "source": [
    "from sklearn.model_selection import train_test_split\n",
    "x_train,x_test,y_train,y_test = train_test_split(data.drop(\"species\",axis=1),data[\"species\"],test_size=0.3)"
   ]
  },
  {
   "cell_type": "code",
   "execution_count": 650,
   "metadata": {},
   "outputs": [],
   "source": [
    "y_train = y_train.to_string(index=False).split('\\n')\n",
    "y_test  = y_test.to_string(index=False).split('\\n')\n"
   ]
  },
  {
   "cell_type": "code",
   "execution_count": 651,
   "metadata": {},
   "outputs": [],
   "source": [
    "import warnings\n",
    "warnings.filterwarnings('ignore')\n",
    "def make_y(Y):\n",
    "    for i in range(len(Y)):\n",
    "    \n",
    "        if Y[i].strip() == 'versicolor':\n",
    "            Y[i] = 1\n",
    "            \n",
    "        elif Y[i].strip() == 'setosa':\n",
    "            Y[i] = 2\n",
    "        \n",
    "        elif Y[i].strip() == 'virginica':\n",
    "            Y[i] = 3\n",
    "    return Y"
   ]
  },
  {
   "cell_type": "code",
   "execution_count": 652,
   "metadata": {},
   "outputs": [],
   "source": [
    "y_train = make_y(y_train)\n",
    "y_test  = make_y(y_test)"
   ]
  },
  {
   "cell_type": "code",
   "execution_count": 653,
   "metadata": {},
   "outputs": [],
   "source": [
    "X = np.array(x_train)\n",
    "Y = np.array(y_train)"
   ]
  },
  {
   "cell_type": "code",
   "execution_count": 654,
   "metadata": {},
   "outputs": [],
   "source": [
    "n = neural_network(X,Y)\n",
    "n.fit(X,Y,10000)"
   ]
  }
 ],
 "metadata": {
  "kernelspec": {
   "display_name": "Python 3",
   "language": "python",
   "name": "python3"
  },
  "language_info": {
   "codemirror_mode": {
    "name": "ipython",
    "version": 3
   },
   "file_extension": ".py",
   "mimetype": "text/x-python",
   "name": "python",
   "nbconvert_exporter": "python",
   "pygments_lexer": "ipython3",
   "version": "3.6.5"
  }
 },
 "nbformat": 4,
 "nbformat_minor": 2
}
